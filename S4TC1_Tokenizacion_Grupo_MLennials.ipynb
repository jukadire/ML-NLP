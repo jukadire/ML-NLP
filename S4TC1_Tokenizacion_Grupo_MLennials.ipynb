{
 "cells": [
  {
   "attachments": {},
   "cell_type": "markdown",
   "metadata": {},
   "source": [
    "![image info](https://raw.githubusercontent.com/albahnsen/MIAD_ML_and_NLP/main/images/banner_1.png)"
   ]
  },
  {
   "cell_type": "markdown",
   "metadata": {},
   "source": [
    "# Taller: Tokenización de textos  \n",
    "\n",
    "En este taller podrán poner en práctica sus conocimientos sobre preprocesamiento de texto (tokenización). El taller está constituido por 5 puntos, en los cuales deberan seguir las intrucciones de cada numeral para su desarrollo."
   ]
  },
  {
   "cell_type": "markdown",
   "metadata": {},
   "source": [
    "## Datos detección de toxicidad en comentarios\n",
    "\n",
    "En este taller se usará el conjunto de datos de detección de toxicidad en comentarios de la base de datos de Kaggle. Cada observación es un comentario que tiene como variable objetivo (target) la probabilidad de ser un comentario tóxico. El objetivo es predecir la toxicidad de cada comentario. Para más detalles pueden visitar el siguiente enlace: [datos](https://www.kaggle.com/c/jigsaw-unintended-bias-in-toxicity-classification/data)."
   ]
  },
  {
   "cell_type": "code",
   "execution_count": 38,
   "metadata": {},
   "outputs": [],
   "source": [
    "import warnings\n",
    "warnings.filterwarnings('ignore')"
   ]
  },
  {
   "cell_type": "code",
   "execution_count": 39,
   "metadata": {},
   "outputs": [],
   "source": [
    "# Importación librerías\n",
    "import pandas as pd\n",
    "import numpy as np\n",
    "import scipy as sp\n",
    "from sklearn.model_selection import train_test_split, cross_val_score\n",
    "from sklearn.feature_extraction.text import CountVectorizer, TfidfVectorizer\n",
    "from sklearn import metrics\n",
    "%matplotlib inline"
   ]
  },
  {
   "cell_type": "code",
   "execution_count": 40,
   "metadata": {},
   "outputs": [
    {
     "name": "stdout",
     "output_type": "stream",
     "text": [
      "(10000, 3)\n"
     ]
    },
    {
     "data": {
      "text/html": [
       "<div>\n",
       "<style scoped>\n",
       "    .dataframe tbody tr th:only-of-type {\n",
       "        vertical-align: middle;\n",
       "    }\n",
       "\n",
       "    .dataframe tbody tr th {\n",
       "        vertical-align: top;\n",
       "    }\n",
       "\n",
       "    .dataframe thead th {\n",
       "        text-align: right;\n",
       "    }\n",
       "</style>\n",
       "<table border=\"1\" class=\"dataframe\">\n",
       "  <thead>\n",
       "    <tr style=\"text-align: right;\">\n",
       "      <th></th>\n",
       "      <th>id</th>\n",
       "      <th>comment_text</th>\n",
       "      <th>target</th>\n",
       "    </tr>\n",
       "  </thead>\n",
       "  <tbody>\n",
       "    <tr>\n",
       "      <th>0</th>\n",
       "      <td>6101457</td>\n",
       "      <td>What are you talking about? What group do Pete...</td>\n",
       "      <td>0.000000</td>\n",
       "    </tr>\n",
       "    <tr>\n",
       "      <th>1</th>\n",
       "      <td>5342103</td>\n",
       "      <td>NO!, Let him, we need a Conservative government.</td>\n",
       "      <td>0.000000</td>\n",
       "    </tr>\n",
       "    <tr>\n",
       "      <th>2</th>\n",
       "      <td>743361</td>\n",
       "      <td>Perhaps he took the \"power out of the Cardinal...</td>\n",
       "      <td>0.200000</td>\n",
       "    </tr>\n",
       "    <tr>\n",
       "      <th>3</th>\n",
       "      <td>551008</td>\n",
       "      <td>As always, yours is dripping with sarcasm, whi...</td>\n",
       "      <td>0.000000</td>\n",
       "    </tr>\n",
       "    <tr>\n",
       "      <th>4</th>\n",
       "      <td>865998</td>\n",
       "      <td>The dirty little secret is that the price rang...</td>\n",
       "      <td>0.300000</td>\n",
       "    </tr>\n",
       "    <tr>\n",
       "      <th>5</th>\n",
       "      <td>5790966</td>\n",
       "      <td>Light gets bent by gravity.  However, it isn't...</td>\n",
       "      <td>0.000000</td>\n",
       "    </tr>\n",
       "    <tr>\n",
       "      <th>6</th>\n",
       "      <td>5241987</td>\n",
       "      <td>This is a bad joke, we rewrite history every t...</td>\n",
       "      <td>0.000000</td>\n",
       "    </tr>\n",
       "    <tr>\n",
       "      <th>7</th>\n",
       "      <td>6116383</td>\n",
       "      <td>If some homeless actually live peacefully toge...</td>\n",
       "      <td>0.000000</td>\n",
       "    </tr>\n",
       "    <tr>\n",
       "      <th>8</th>\n",
       "      <td>653122</td>\n",
       "      <td>Thanks.  I will.</td>\n",
       "      <td>0.166667</td>\n",
       "    </tr>\n",
       "    <tr>\n",
       "      <th>9</th>\n",
       "      <td>5439407</td>\n",
       "      <td>Okay.....Should we not be investigating Eric H...</td>\n",
       "      <td>0.500000</td>\n",
       "    </tr>\n",
       "  </tbody>\n",
       "</table>\n",
       "</div>"
      ],
      "text/plain": [
       "        id                                       comment_text    target\n",
       "0  6101457  What are you talking about? What group do Pete...  0.000000\n",
       "1  5342103   NO!, Let him, we need a Conservative government.  0.000000\n",
       "2   743361  Perhaps he took the \"power out of the Cardinal...  0.200000\n",
       "3   551008  As always, yours is dripping with sarcasm, whi...  0.000000\n",
       "4   865998  The dirty little secret is that the price rang...  0.300000\n",
       "5  5790966  Light gets bent by gravity.  However, it isn't...  0.000000\n",
       "6  5241987  This is a bad joke, we rewrite history every t...  0.000000\n",
       "7  6116383  If some homeless actually live peacefully toge...  0.000000\n",
       "8   653122                                   Thanks.  I will.  0.166667\n",
       "9  5439407  Okay.....Should we not be investigating Eric H...  0.500000"
      ]
     },
     "execution_count": 40,
     "metadata": {},
     "output_type": "execute_result"
    }
   ],
   "source": [
    "# Carga de datos de archivos .csv\n",
    "df = pd.read_csv('https://raw.githubusercontent.com/albahnsen/MIAD_ML_and_NLP/main/datasets/Toxicity.zip')\n",
    "df = df[['id','comment_text', 'target']]\n",
    "df = df.head(10000)\n",
    "print(df.shape)\n",
    "df.head(10)"
   ]
  },
  {
   "cell_type": "code",
   "execution_count": 41,
   "metadata": {},
   "outputs": [
    {
     "data": {
      "text/plain": [
       "<Axes: >"
      ]
     },
     "execution_count": 41,
     "metadata": {},
     "output_type": "execute_result"
    },
    {
     "data": {
      "image/png": "[encoded data removed]",
      "text/plain": [
       "<Figure size 640x480 with 1 Axes>"
      ]
     },
     "metadata": {},
     "output_type": "display_data"
    }
   ],
   "source": [
    "# Impresión histograma de variable de interés (y)\n",
    "df.target.hist()"
   ]
  },
  {
   "cell_type": "code",
   "execution_count": 42,
   "metadata": {},
   "outputs": [
    {
     "data": {
      "text/plain": [
       "count    10000.000000\n",
       "mean         0.102815\n",
       "std          0.198588\n",
       "min          0.000000\n",
       "25%          0.000000\n",
       "50%          0.000000\n",
       "75%          0.166667\n",
       "max          1.000000\n",
       "Name: target, dtype: float64"
      ]
     },
     "execution_count": 42,
     "metadata": {},
     "output_type": "execute_result"
    }
   ],
   "source": [
    "# Separación de variable de interés (y)\n",
    "y = df.target\n",
    "y.describe()"
   ]
  },
  {
   "cell_type": "code",
   "execution_count": 43,
   "metadata": {},
   "outputs": [],
   "source": [
    "# Separación de variables predictoras (X), solo se considera el texto de la noticia\n",
    "X = df.comment_text"
   ]
  },
  {
   "cell_type": "code",
   "execution_count": 44,
   "metadata": {},
   "outputs": [],
   "source": [
    "# Separación de datos en set de entrenamiento y test\n",
    "X_train, X_test, y_train, y_test = train_test_split(X, y, test_size=0.33, random_state=42)"
   ]
  },
  {
   "cell_type": "markdown",
   "metadata": {},
   "source": [
    "## Punto 1 - Tokenización con CountVectorizer\n",
    "\n",
    "En la celda 1 creen y entrenen el modelo de regresión de su preferencia, para que prediga la probabilidad de que un comentario sea tóxico, usando los set de entrenamiento y test definidos anteriormente. Usen la función **CountVectorizer** para preprocesar los comentarios y presenten el desempeño del modelo con la métrica del MSE.\n",
    "\n",
    "Recuerden que el preprocesamiento que se haga sobre los datos de entrenamiento  (*.fit_transform()*) deben ser aplicado al set de test (*.transform()*)."
   ]
  },
  {
   "cell_type": "code",
   "execution_count": 46,
   "metadata": {},
   "outputs": [
    {
     "name": "stdout",
     "output_type": "stream",
     "text": [
      "MSE con Random Forest y CountVectorizer por defecto: 0.0295\n"
     ]
    }
   ],
   "source": [
    "# Celda 1\n",
    "from sklearn.linear_model import LinearRegression\n",
    "from sklearn.metrics import mean_squared_error\n",
    "from sklearn.ensemble import RandomForestRegressor\n",
    "\n",
    "vect_A = CountVectorizer()\n",
    "X_train_vec = vect_A.fit_transform(X_train)\n",
    "\n",
    "X_test_vec = vect_A.transform(X_test)\n",
    "\n",
    "modelo = RandomForestRegressor(random_state=42, n_jobs=-1, n_estimators=30) \n",
    "modelo.fit(X_train_vec, y_train)\n",
    "\n",
    "y_pred = modelo.predict(X_test_vec)\n",
    "\n",
    "# Acotar predicciones entre 0 y 1\n",
    "y_pred[y_pred < 0] = 0\n",
    "y_pred[y_pred > 1] = 1\n",
    "\n",
    "mse_countvdef = mean_squared_error(y_test, y_pred)\n",
    "\n",
    "print(f\"MSE con Random Forest y CountVectorizer por defecto: {mse_countvdef:.4f}\")\n"
   ]
  },
  {
   "cell_type": "markdown",
   "metadata": {},
   "source": [
    "### Comentarios"
   ]
  },
  {
   "cell_type": "markdown",
   "metadata": {},
   "source": [
    "1. Elegimos Random Forest por su manejo de relaciones no lineales y es mas robusto ante overfitting y por lo general tienen una buena precisión\n",
    "2. Se vectotiza sin n-gramas\n",
    "3. Al trabajar con los 500 mil datos el pocesamiento y rendimiento computacional fue muy malo, por lo tanto se trabajo con una muestra de 20mil registros.\n",
    "4. El modelo mostró un MSE = 0.0295"
   ]
  },
  {
   "cell_type": "markdown",
   "metadata": {},
   "source": [
    "## Punto 2 - Tokenización con CountVectorizer y trigramas\n",
    "\n",
    "En la celda 2 creen y entrenen el mismo modelo de regresión del punto anterior (es decir si usaron un RandomForestRegresor usen nuevamente ese regresor), para que prediga la probabilidad de que un comentario sea tóxico, usando los set de entrenamiento y test definidos anteriormente. Usen la función CountVectorizer **considerando trigramas** para preprocesar los comentarios y presenten el desempeño del modelo con la métrica del MSE.\n",
    "\n",
    "Recuerden que el preprocesamiento que se haga sobre los datos de entrenamiento  (*.fit_transform()*) deben ser aplicado al set de test (*.transform()*)."
   ]
  },
  {
   "cell_type": "code",
   "execution_count": 48,
   "metadata": {},
   "outputs": [
    {
     "name": "stdout",
     "output_type": "stream",
     "text": [
      "MSE con Random Forest y CountVectorizer de Trigramas: 0.0479\n"
     ]
    }
   ],
   "source": [
    "# Celda 2\n",
    "\n",
    "vect_B = CountVectorizer(ngram_range=(3, 3))\n",
    "X_train_vec = vect_B.fit_transform(X_train)\n",
    "\n",
    "X_test_vec = vect_B.transform(X_test)\n",
    "\n",
    "modelo = RandomForestRegressor(random_state=42, n_jobs=-1, n_estimators=30) \n",
    "modelo.fit(X_train_vec, y_train)\n",
    "\n",
    "y_pred = modelo.predict(X_test_vec)\n",
    "\n",
    "# Acotar predicciones entre 0 y 1\n",
    "y_pred[y_pred < 0] = 0\n",
    "y_pred[y_pred > 1] = 1\n",
    "\n",
    "mse_trigrama = mean_squared_error(y_test, y_pred)\n",
    "\n",
    "print(f\"MSE con Random Forest y CountVectorizer de Trigramas: {mse_trigrama:.4f}\")\n"
   ]
  },
  {
   "cell_type": "markdown",
   "metadata": {},
   "source": [
    "### Comentarios"
   ]
  },
  {
   "cell_type": "markdown",
   "metadata": {},
   "source": [
    "- El MSE aumentó de 0.0295 (unigramas) a 0.0479 (trigramas). Lo cual nos indica que al usar tregramas en este problema se empeora el desempeño del modelo\n",
    "- No se sabe si al tomar una muestra de 10mil datos, puede estar afectando el modelo con trigramas."
   ]
  },
  {
   "cell_type": "markdown",
   "metadata": {},
   "source": [
    "## Punto 3 - TfidfVectorizer\n",
    "\n",
    "Investigen sobre la función TfidfVectorizer. En la celda de texto 3, expliquen en qué consiste esta técnica de tokenización (describanla y expliquen su funcionamiento) y cúales son las ventajas o deventajas de su uso al compararlo con la función CountVectorizer."
   ]
  },
  {
   "cell_type": "markdown",
   "metadata": {},
   "source": [
    "**Qué es?**\n",
    "\n",
    "TF-IDF (Term Frequency-Inverse Document Frequency) es una técnica en el Procesamiento de Leguaje natural que convierte las palabras en valores numéricos\n",
    "y los vectoriza. Esta técnica mas alla de contar las palabras, mide la frecuencia de las palabras en un documento y tambien la frecuencia de esas palabras entre todos los documentos, con esto asigna qué tan importante es una palabra dentro del documento.\n",
    "\n",
    "**Como funciona?**\n",
    "\n",
    "Esta técnica se basa en medir la importancia de una palabra midiedo la frecuencia de esa palabra tanto en el cuerpo de un documento, asi como en todo el conjunto de documentos.\n",
    "\n",
    "- TF (Term Frequency): mide cuántas veces aparece una palabra en un documento. Ej: Si la palabra token aparece 6 veces en un documento, su frecuencia TF es 6.\n",
    "\n",
    "- IDF (Inverse Document Frequency): mide qué tan rara es una palabra en todo el counjunto de documentos. Esto quiere decir que si una palabra aparece en muchos documentos, su IDF es bajo, de lo contrario si aparece en pocos documentos, esto quiere decir que no es muy comun y su IDF será alto.\n",
    "\n",
    "El valor final es el producto de ambos entre TF y IDF\n",
    "\n",
    "\n",
    "**Ventajas**\n",
    "- Da más peso a palabras importantes y menos a palabras comunes.\t\n",
    "- Mejora la calidad de los modelos al reducir el impacto de \"ruido\" (palabras como \"el\", \"de\", \"la\").\t\n",
    "- Ideal para tareas como clasificación de texto, búsqueda de información, etc.\n",
    "- Es escalable y puede utilizarse con corpus de texto extensos, lo que lo hace ideal para procesar y analizar grandes cantidades de datos de texto.\n",
    "- Es facil de entender e implementar.\n",
    "\n",
    "**Desventajas**\n",
    "- No captura la posición en el texto.\n",
    "- No puede capturar la semántica.\n",
    "- No considera el contexto.\n",
    "- Puede eliminar información útil, como \"no\", \"muy\", \"nunca\" que son clave en ciertos contextos.\n",
    "- Sensibilidad a cambios de en el cinjunto de datos.\n",
    "\n"
   ]
  },
  {
   "cell_type": "markdown",
   "metadata": {},
   "source": [
    "## Punto 4 - Tokenización con TfidfVectorizer\n",
    "\n",
    "En la celda 4 creen y entrenen el mismo modelo de regresión del primer punto, para que prediga la probabilidad de que un comentario sea tóxico, usando los set de entrenamiento y test definidos anteriormente. Procesen los comentarios con la función **TfidfVectorizer** y presenten el desempeño del modelo con la métrica del MSE.\n",
    "\n",
    "Recuerden que el preprocesamiento que se haga sobre los datos de entrenamiento  (*.fit_transform()*) deben ser aplicado al set de test (*.transform()*)."
   ]
  },
  {
   "cell_type": "code",
   "execution_count": 52,
   "metadata": {},
   "outputs": [
    {
     "name": "stdout",
     "output_type": "stream",
     "text": [
      "MSE con Random Forest y TfidVectorizer: 0.0281\n"
     ]
    }
   ],
   "source": [
    "# Celda 4\n",
    "\n",
    "vect_C = TfidfVectorizer(ngram_range=(1, 1))\n",
    "X_train_vec = vect_C.fit_transform(X_train)\n",
    "\n",
    "X_test_vec = vect_C.transform(X_test)\n",
    "\n",
    "modelo = RandomForestRegressor(random_state=42, n_jobs=-1, n_estimators=30) \n",
    "modelo.fit(X_train_vec, y_train)\n",
    "\n",
    "y_pred = modelo.predict(X_test_vec)\n",
    "\n",
    "# Acotar predicciones entre 0 y 1\n",
    "y_pred[y_pred < 0] = 0\n",
    "y_pred[y_pred > 1] = 1\n",
    "\n",
    "mse_tfidv = mean_squared_error(y_test, y_pred)\n",
    "\n",
    "print(f\"MSE con Random Forest y TfidVectorizer: {mse_tfidv:.4f}\")"
   ]
  },
  {
   "cell_type": "markdown",
   "metadata": {},
   "source": [
    "### Comentario"
   ]
  },
  {
   "cell_type": "markdown",
   "metadata": {},
   "source": [
    "- Al Utilizar TfidfVectorizer para tokenizar los textos, el MSE obtenido fue 0.0281. El cual es más bajo que los métodos anteriores.\n",
    "- Al parecer el uso de TfidfVectorizer permitió mejorar el desempeño del modelo al ponderar cada término según su importancia en el conjunto de documentos."
   ]
  },
  {
   "cell_type": "markdown",
   "metadata": {},
   "source": [
    "## Punto 5 - Comparación y análisis de resultados\n",
    "\n",
    "En la celda 5 comparen los resultados obtenidos de los diferentes modelos y comenten cómo el preprocesamiento de texto afecta el desempeño."
   ]
  },
  {
   "cell_type": "code",
   "execution_count": 54,
   "metadata": {},
   "outputs": [
    {
     "data": {
      "image/png": "[encoded data removed]",
      "text/plain": [
       "<Figure size 1000x600 with 1 Axes>"
      ]
     },
     "metadata": {},
     "output_type": "display_data"
    }
   ],
   "source": [
    "# Celda 5\n",
    "import matplotlib.pyplot as plt\n",
    "\n",
    "labels = [\n",
    "    'RandomForest\\n+ CountVec (Unigramas)',\n",
    "    'RandomForest\\n+ CountVec (Trigramas)',\n",
    "    'RandomForest\\n+ TF-IDF Vec' \n",
    "]\n",
    "\n",
    "mse_values = [mse_countvdef, mse_trigrama, mse_tfidv]\n",
    "\n",
    "plt.figure(figsize=(10, 6))\n",
    "bars = plt.bar(labels, mse_values, color=['skyblue', 'lightcoral', 'lightgreen'])\n",
    "\n",
    "plt.title('Comparación del Error Cuadrático Medio (MSE) por Modelo')\n",
    "plt.ylabel('Mean Squared Error (MSE)')\n",
    "\n",
    "for bar in bars:\n",
    "    yval = bar.get_height()\n",
    "    plt.text(bar.get_x() + bar.get_width()/2.0, yval, f'{yval:.4f}', va='bottom', ha='center')\n",
    "\n",
    "plt.ylim(0, max(mse_values) * 1.15)\n",
    "\n",
    "plt.grid(axis='y', linestyle='--', alpha=0.7)\n",
    "\n",
    "plt.tight_layout()\n",
    "plt.show()\n"
   ]
  },
  {
   "cell_type": "markdown",
   "metadata": {},
   "source": [
    "#### Conclusiones\n",
    "* Podemos observar que pasar de Unigramas a Trigramas en el CountVectorize empeoró el performance del modelo, por lo tanto agrupar conjuntos de 3 palabras no ayuda mejorar la predición de la toxicidad.\n",
    "* Tfidf mostro un performance superior vs los modelos con preprocesamiento CountVectorize, alineandose con las ventajas que habíamos mencionado en el punto 3.\n",
    "* En general los modelos con preprocesamiento(ya sea CountVectorize o Tfidf) mostraron un excelente poder predictivo, siendo el modelo con Tfdif el que tuvo el mejor performance con MSE de 0.0281"
   ]
  },
  {
   "cell_type": "markdown",
   "metadata": {},
   "source": [
    "**Resultados:**\n",
    "\n",
    "Punto 1 - CountVectorizer (unigrama) | 0.02407\n",
    "Punto 2 - CountVectorizer (trigrama) | 0.03900\n",
    "Punto 4 - TfidfVectorizer | 0.02359\n",
    "\n",
    "\n",
    "**Conclusiones**\n",
    "\n",
    "- Podemos observar que pasar de Unigramas a Trigramas en el CountVectorize empeoró el performance del modelo, por lo tanto agrupar conjuntos de 3 palabras no ayuda mejorar la predición de la toxicidad.\n",
    "- Tfidf mostro un performance superior vs los modelos con preprocesamiento CountVectorize, alineandose con las ventajas que habíamos mencionado en el punto 3.\n",
    "- En general los modelos con preprocesamiento(ya sea CountVectorize o Tfidf) mostraron un excelente poder predictivo, siendo el modelo con Tfdif el que tuvo el mejor performance con MSE de 0.0281\n",
    "- Debido al alto consumo computacional de hacer el ejercicio  con los 500mil registros. Queda la duda si con más datoos, los trigramas podrían haber funcionado mejor, porque habría más ejemplos de cada trigrama.\n"
   ]
  },
  {
   "cell_type": "code",
   "execution_count": null,
   "metadata": {},
   "outputs": [],
   "source": []
  }
 ],
 "metadata": {
  "kernelspec": {
   "display_name": "Python 3 (ipykernel)",
   "language": "python",
   "name": "python3"
  },
  "language_info": {
   "codemirror_mode": {
    "name": "ipython",
    "version": 3
   },
   "file_extension": ".py",
   "mimetype": "text/x-python",
   "name": "python",
   "nbconvert_exporter": "python",
   "pygments_lexer": "ipython3",
   "version": "3.12.6"
  },
  "name": "_merged"
 },
 "nbformat": 4,
 "nbformat_minor": 4
}
